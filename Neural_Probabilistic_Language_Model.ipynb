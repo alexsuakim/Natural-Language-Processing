{
  "cells": [
    {
      "cell_type": "markdown",
      "metadata": {
        "id": "view-in-github",
        "colab_type": "text"
      },
      "source": [
        "<a href=\"https://colab.research.google.com/github/alexsuakim/Natural-Language-Processing/blob/main/Neural_Probabilistic_Language_Model.ipynb\" target=\"_parent\"><img src=\"https://colab.research.google.com/assets/colab-badge.svg\" alt=\"Open In Colab\"/></a>"
      ]
    },
    {
      "cell_type": "markdown",
      "metadata": {
        "id": "UPWYlhiLa0aH"
      },
      "source": [
        "We will be focusing on the IMDb dataset. This is a dataset for binary sentiment classification, and is provided with a set of 25,000 highly polar movie reviews for training, and 25,000 for testing. To load the dataset, you can choose these several ways:\n",
        "\n",
        "1. Refer to Kaggle (https://www.kaggle.com/datasets/lakshmi25npathi/imdb-dataset-of-50k-movie-reviews). You can load the dataset by csv file.\n",
        "\n",
        "2. Refer to Torchtext (https://pytorch.org/text/stable/index.html). There is a build-in function named `torchtext.datasets.IMDB`(https://pytorch.org/text/stable/datasets.html#torchtext.datasets.IMDB). Different versions of Torchtext have quite different features and functions. You may use previous versions.\n",
        "\n",
        "3. Refer to Huggingface (https://huggingface.co/datasets/imdb). You can load this dataset directly with the datasets library.\n",
        "\n",
        "4. Refer to Stanford (https://ai.stanford.edu/~amaas/data/sentiment/). This is the raw dataset.\n",
        "\n",
        "If you choose to use method 4, you could easily download the dataset by adding this line in your colab notebook:\n",
        "\n",
        "```\n",
        "! wget http://ai.stanford.edu/%7Eamaas/data/sentiment/aclImdb_v1.tar.gz\n",
        "```\n",
        "\n",
        "###After loading the dataset, you will need to perform preprocessing (e.g. tokenization, build up vocabulary, etc.) on the text. We will set the minimum token frequency threshold to be 10. Then print out the size of your vocabulary.\n",
        "\n",
        "- Special notes: you may need some special tokens like `<UNK>`, `<PAD>`, `<BOS>`, `<EOS>`. `<UNK>` represents the tokens that can not be found in our vocabulary. (Why do we need it?) `<PAD>` means padding, and `<BOS>` and `<EOS>` represents beginning-of-sentence and end-of-sentence, respectively.\n",
        "\n",
        "###Build an appropriate embedding matrix based on your vocabulary and print out the size of this matrix.\n",
        "\n",
        "###Finally, to get your data prepared, build up Pytorch dataloaders for model training and print out one batch of training data.\n",
        "\n",
        "- To check whether your dataloader can work successfully, you can choose to use `next(iter(train_dataloader))`. You can refer to https://pytorch.org/tutorials/beginner/basics/data_tutorial.html.\n",
        "\n",
        "###We choose bidirectional LSTM (BiLSTM) as the model. Train the model for 5 epoches with embedding matrix you obtained earlier, and for each epoch, print out the training loss, training accuracy, testing loss and testing accuracy. You could choose any appropriate loss function and values for hyperparameters.\n",
        "\n",
        "- This is a challenge question. If you found difficulty understanding the structure of BiLSTM, you may refer to the supplementary note named *notes_on_lstm* inside tutorial 9 for detailed information.\n",
        "\n",
        "- You definitely want to use GPU for this colab notebook. Go to Edit > Notebook settings as the following: Click on “Notebook settings” and select “GPU”."
      ]
    },
    {
      "cell_type": "code",
      "execution_count": null,
      "metadata": {
        "id": "1Be5wnxOjFh5"
      },
      "outputs": [],
      "source": [
        "import numpy as np\n",
        "import pandas as pd\n",
        "import io\n",
        "import operator\n",
        "import re\n",
        "import string\n",
        "import torch\n",
        "import tensorflow as tf\n",
        "from google.colab import files\n",
        "from string import punctuation\n",
        "from collections import Counter\n",
        "from nltk.tokenize import word_tokenize\n",
        "from nltk.corpus import stopwords\n",
        "from sklearn.model_selection import train_test_split\n",
        "from torch.utils.data import TensorDataset, DataLoader, random_split\n",
        "from keras.utils import pad_sequences\n",
        "from keras.preprocessing.text import Tokenizer\n",
        "from keras.models import Sequential\n",
        "from keras.layers import Dense, Embedding, LSTM, SpatialDropout1D, Bidirectional, Activation, Concatenate, Flatten"
      ]
    },
    {
      "cell_type": "code",
      "execution_count": null,
      "metadata": {
        "colab": {
          "base_uri": "https://localhost:8080/",
          "height": 76
        },
        "id": "pU0ZkBR1hyfV",
        "outputId": "f2eef5a4-a3b0-48e6-e7dd-894e7a931120"
      },
      "outputs": [
        {
          "data": {
            "text/html": [
              "\n",
              "     <input type=\"file\" id=\"files-b6a6975e-c263-461e-9d75-e74539c7b441\" name=\"files[]\" multiple disabled\n",
              "        style=\"border:none\" />\n",
              "     <output id=\"result-b6a6975e-c263-461e-9d75-e74539c7b441\">\n",
              "      Upload widget is only available when the cell has been executed in the\n",
              "      current browser session. Please rerun this cell to enable.\n",
              "      </output>\n",
              "      <script>// Copyright 2017 Google LLC\n",
              "//\n",
              "// Licensed under the Apache License, Version 2.0 (the \"License\");\n",
              "// you may not use this file except in compliance with the License.\n",
              "// You may obtain a copy of the License at\n",
              "//\n",
              "//      http://www.apache.org/licenses/LICENSE-2.0\n",
              "//\n",
              "// Unless required by applicable law or agreed to in writing, software\n",
              "// distributed under the License is distributed on an \"AS IS\" BASIS,\n",
              "// WITHOUT WARRANTIES OR CONDITIONS OF ANY KIND, either express or implied.\n",
              "// See the License for the specific language governing permissions and\n",
              "// limitations under the License.\n",
              "\n",
              "/**\n",
              " * @fileoverview Helpers for google.colab Python module.\n",
              " */\n",
              "(function(scope) {\n",
              "function span(text, styleAttributes = {}) {\n",
              "  const element = document.createElement('span');\n",
              "  element.textContent = text;\n",
              "  for (const key of Object.keys(styleAttributes)) {\n",
              "    element.style[key] = styleAttributes[key];\n",
              "  }\n",
              "  return element;\n",
              "}\n",
              "\n",
              "// Max number of bytes which will be uploaded at a time.\n",
              "const MAX_PAYLOAD_SIZE = 100 * 1024;\n",
              "\n",
              "function _uploadFiles(inputId, outputId) {\n",
              "  const steps = uploadFilesStep(inputId, outputId);\n",
              "  const outputElement = document.getElementById(outputId);\n",
              "  // Cache steps on the outputElement to make it available for the next call\n",
              "  // to uploadFilesContinue from Python.\n",
              "  outputElement.steps = steps;\n",
              "\n",
              "  return _uploadFilesContinue(outputId);\n",
              "}\n",
              "\n",
              "// This is roughly an async generator (not supported in the browser yet),\n",
              "// where there are multiple asynchronous steps and the Python side is going\n",
              "// to poll for completion of each step.\n",
              "// This uses a Promise to block the python side on completion of each step,\n",
              "// then passes the result of the previous step as the input to the next step.\n",
              "function _uploadFilesContinue(outputId) {\n",
              "  const outputElement = document.getElementById(outputId);\n",
              "  const steps = outputElement.steps;\n",
              "\n",
              "  const next = steps.next(outputElement.lastPromiseValue);\n",
              "  return Promise.resolve(next.value.promise).then((value) => {\n",
              "    // Cache the last promise value to make it available to the next\n",
              "    // step of the generator.\n",
              "    outputElement.lastPromiseValue = value;\n",
              "    return next.value.response;\n",
              "  });\n",
              "}\n",
              "\n",
              "/**\n",
              " * Generator function which is called between each async step of the upload\n",
              " * process.\n",
              " * @param {string} inputId Element ID of the input file picker element.\n",
              " * @param {string} outputId Element ID of the output display.\n",
              " * @return {!Iterable<!Object>} Iterable of next steps.\n",
              " */\n",
              "function* uploadFilesStep(inputId, outputId) {\n",
              "  const inputElement = document.getElementById(inputId);\n",
              "  inputElement.disabled = false;\n",
              "\n",
              "  const outputElement = document.getElementById(outputId);\n",
              "  outputElement.innerHTML = '';\n",
              "\n",
              "  const pickedPromise = new Promise((resolve) => {\n",
              "    inputElement.addEventListener('change', (e) => {\n",
              "      resolve(e.target.files);\n",
              "    });\n",
              "  });\n",
              "\n",
              "  const cancel = document.createElement('button');\n",
              "  inputElement.parentElement.appendChild(cancel);\n",
              "  cancel.textContent = 'Cancel upload';\n",
              "  const cancelPromise = new Promise((resolve) => {\n",
              "    cancel.onclick = () => {\n",
              "      resolve(null);\n",
              "    };\n",
              "  });\n",
              "\n",
              "  // Wait for the user to pick the files.\n",
              "  const files = yield {\n",
              "    promise: Promise.race([pickedPromise, cancelPromise]),\n",
              "    response: {\n",
              "      action: 'starting',\n",
              "    }\n",
              "  };\n",
              "\n",
              "  cancel.remove();\n",
              "\n",
              "  // Disable the input element since further picks are not allowed.\n",
              "  inputElement.disabled = true;\n",
              "\n",
              "  if (!files) {\n",
              "    return {\n",
              "      response: {\n",
              "        action: 'complete',\n",
              "      }\n",
              "    };\n",
              "  }\n",
              "\n",
              "  for (const file of files) {\n",
              "    const li = document.createElement('li');\n",
              "    li.append(span(file.name, {fontWeight: 'bold'}));\n",
              "    li.append(span(\n",
              "        `(${file.type || 'n/a'}) - ${file.size} bytes, ` +\n",
              "        `last modified: ${\n",
              "            file.lastModifiedDate ? file.lastModifiedDate.toLocaleDateString() :\n",
              "                                    'n/a'} - `));\n",
              "    const percent = span('0% done');\n",
              "    li.appendChild(percent);\n",
              "\n",
              "    outputElement.appendChild(li);\n",
              "\n",
              "    const fileDataPromise = new Promise((resolve) => {\n",
              "      const reader = new FileReader();\n",
              "      reader.onload = (e) => {\n",
              "        resolve(e.target.result);\n",
              "      };\n",
              "      reader.readAsArrayBuffer(file);\n",
              "    });\n",
              "    // Wait for the data to be ready.\n",
              "    let fileData = yield {\n",
              "      promise: fileDataPromise,\n",
              "      response: {\n",
              "        action: 'continue',\n",
              "      }\n",
              "    };\n",
              "\n",
              "    // Use a chunked sending to avoid message size limits. See b/62115660.\n",
              "    let position = 0;\n",
              "    do {\n",
              "      const length = Math.min(fileData.byteLength - position, MAX_PAYLOAD_SIZE);\n",
              "      const chunk = new Uint8Array(fileData, position, length);\n",
              "      position += length;\n",
              "\n",
              "      const base64 = btoa(String.fromCharCode.apply(null, chunk));\n",
              "      yield {\n",
              "        response: {\n",
              "          action: 'append',\n",
              "          file: file.name,\n",
              "          data: base64,\n",
              "        },\n",
              "      };\n",
              "\n",
              "      let percentDone = fileData.byteLength === 0 ?\n",
              "          100 :\n",
              "          Math.round((position / fileData.byteLength) * 100);\n",
              "      percent.textContent = `${percentDone}% done`;\n",
              "\n",
              "    } while (position < fileData.byteLength);\n",
              "  }\n",
              "\n",
              "  // All done.\n",
              "  yield {\n",
              "    response: {\n",
              "      action: 'complete',\n",
              "    }\n",
              "  };\n",
              "}\n",
              "\n",
              "scope.google = scope.google || {};\n",
              "scope.google.colab = scope.google.colab || {};\n",
              "scope.google.colab._files = {\n",
              "  _uploadFiles,\n",
              "  _uploadFilesContinue,\n",
              "};\n",
              "})(self);\n",
              "</script> "
            ],
            "text/plain": [
              "<IPython.core.display.HTML object>"
            ]
          },
          "metadata": {},
          "output_type": "display_data"
        },
        {
          "name": "stdout",
          "output_type": "stream",
          "text": [
            "Saving IMDB.csv to IMDB.csv\n"
          ]
        }
      ],
      "source": [
        "#download IMDB dataset and upload to Google Colab\n",
        "uploaded = files.upload()\n"
      ]
    },
    {
      "cell_type": "code",
      "execution_count": null,
      "metadata": {
        "colab": {
          "base_uri": "https://localhost:8080/",
          "height": 423
        },
        "id": "tww5DOd2lam2",
        "outputId": "ad55df99-3569-45ee-ff48-abfe6d065b9d"
      },
      "outputs": [
        {
          "data": {
            "text/html": [
              "\n",
              "  <div id=\"df-f2df14cf-9e74-4064-a828-1ce43673242c\">\n",
              "    <div class=\"colab-df-container\">\n",
              "      <div>\n",
              "<style scoped>\n",
              "    .dataframe tbody tr th:only-of-type {\n",
              "        vertical-align: middle;\n",
              "    }\n",
              "\n",
              "    .dataframe tbody tr th {\n",
              "        vertical-align: top;\n",
              "    }\n",
              "\n",
              "    .dataframe thead th {\n",
              "        text-align: right;\n",
              "    }\n",
              "</style>\n",
              "<table border=\"1\" class=\"dataframe\">\n",
              "  <thead>\n",
              "    <tr style=\"text-align: right;\">\n",
              "      <th></th>\n",
              "      <th>review</th>\n",
              "      <th>sentiment</th>\n",
              "    </tr>\n",
              "  </thead>\n",
              "  <tbody>\n",
              "    <tr>\n",
              "      <th>0</th>\n",
              "      <td>One of the other reviewers has mentioned that ...</td>\n",
              "      <td>positive</td>\n",
              "    </tr>\n",
              "    <tr>\n",
              "      <th>1</th>\n",
              "      <td>A wonderful little production. &lt;br /&gt;&lt;br /&gt;The...</td>\n",
              "      <td>positive</td>\n",
              "    </tr>\n",
              "    <tr>\n",
              "      <th>2</th>\n",
              "      <td>I thought this was a wonderful way to spend ti...</td>\n",
              "      <td>positive</td>\n",
              "    </tr>\n",
              "    <tr>\n",
              "      <th>3</th>\n",
              "      <td>Basically there's a family where a little boy ...</td>\n",
              "      <td>negative</td>\n",
              "    </tr>\n",
              "    <tr>\n",
              "      <th>4</th>\n",
              "      <td>Petter Mattei's \"Love in the Time of Money\" is...</td>\n",
              "      <td>positive</td>\n",
              "    </tr>\n",
              "    <tr>\n",
              "      <th>...</th>\n",
              "      <td>...</td>\n",
              "      <td>...</td>\n",
              "    </tr>\n",
              "    <tr>\n",
              "      <th>49995</th>\n",
              "      <td>I thought this movie did a down right good job...</td>\n",
              "      <td>positive</td>\n",
              "    </tr>\n",
              "    <tr>\n",
              "      <th>49996</th>\n",
              "      <td>Bad plot, bad dialogue, bad acting, idiotic di...</td>\n",
              "      <td>negative</td>\n",
              "    </tr>\n",
              "    <tr>\n",
              "      <th>49997</th>\n",
              "      <td>I am a Catholic taught in parochial elementary...</td>\n",
              "      <td>negative</td>\n",
              "    </tr>\n",
              "    <tr>\n",
              "      <th>49998</th>\n",
              "      <td>I'm going to have to disagree with the previou...</td>\n",
              "      <td>negative</td>\n",
              "    </tr>\n",
              "    <tr>\n",
              "      <th>49999</th>\n",
              "      <td>No one expects the Star Trek movies to be high...</td>\n",
              "      <td>negative</td>\n",
              "    </tr>\n",
              "  </tbody>\n",
              "</table>\n",
              "<p>50000 rows × 2 columns</p>\n",
              "</div>\n",
              "      <button class=\"colab-df-convert\" onclick=\"convertToInteractive('df-f2df14cf-9e74-4064-a828-1ce43673242c')\"\n",
              "              title=\"Convert this dataframe to an interactive table.\"\n",
              "              style=\"display:none;\">\n",
              "        \n",
              "  <svg xmlns=\"http://www.w3.org/2000/svg\" height=\"24px\"viewBox=\"0 0 24 24\"\n",
              "       width=\"24px\">\n",
              "    <path d=\"M0 0h24v24H0V0z\" fill=\"none\"/>\n",
              "    <path d=\"M18.56 5.44l.94 2.06.94-2.06 2.06-.94-2.06-.94-.94-2.06-.94 2.06-2.06.94zm-11 1L8.5 8.5l.94-2.06 2.06-.94-2.06-.94L8.5 2.5l-.94 2.06-2.06.94zm10 10l.94 2.06.94-2.06 2.06-.94-2.06-.94-.94-2.06-.94 2.06-2.06.94z\"/><path d=\"M17.41 7.96l-1.37-1.37c-.4-.4-.92-.59-1.43-.59-.52 0-1.04.2-1.43.59L10.3 9.45l-7.72 7.72c-.78.78-.78 2.05 0 2.83L4 21.41c.39.39.9.59 1.41.59.51 0 1.02-.2 1.41-.59l7.78-7.78 2.81-2.81c.8-.78.8-2.07 0-2.86zM5.41 20L4 18.59l7.72-7.72 1.47 1.35L5.41 20z\"/>\n",
              "  </svg>\n",
              "      </button>\n",
              "      \n",
              "  <style>\n",
              "    .colab-df-container {\n",
              "      display:flex;\n",
              "      flex-wrap:wrap;\n",
              "      gap: 12px;\n",
              "    }\n",
              "\n",
              "    .colab-df-convert {\n",
              "      background-color: #E8F0FE;\n",
              "      border: none;\n",
              "      border-radius: 50%;\n",
              "      cursor: pointer;\n",
              "      display: none;\n",
              "      fill: #1967D2;\n",
              "      height: 32px;\n",
              "      padding: 0 0 0 0;\n",
              "      width: 32px;\n",
              "    }\n",
              "\n",
              "    .colab-df-convert:hover {\n",
              "      background-color: #E2EBFA;\n",
              "      box-shadow: 0px 1px 2px rgba(60, 64, 67, 0.3), 0px 1px 3px 1px rgba(60, 64, 67, 0.15);\n",
              "      fill: #174EA6;\n",
              "    }\n",
              "\n",
              "    [theme=dark] .colab-df-convert {\n",
              "      background-color: #3B4455;\n",
              "      fill: #D2E3FC;\n",
              "    }\n",
              "\n",
              "    [theme=dark] .colab-df-convert:hover {\n",
              "      background-color: #434B5C;\n",
              "      box-shadow: 0px 1px 3px 1px rgba(0, 0, 0, 0.15);\n",
              "      filter: drop-shadow(0px 1px 2px rgba(0, 0, 0, 0.3));\n",
              "      fill: #FFFFFF;\n",
              "    }\n",
              "  </style>\n",
              "\n",
              "      <script>\n",
              "        const buttonEl =\n",
              "          document.querySelector('#df-f2df14cf-9e74-4064-a828-1ce43673242c button.colab-df-convert');\n",
              "        buttonEl.style.display =\n",
              "          google.colab.kernel.accessAllowed ? 'block' : 'none';\n",
              "\n",
              "        async function convertToInteractive(key) {\n",
              "          const element = document.querySelector('#df-f2df14cf-9e74-4064-a828-1ce43673242c');\n",
              "          const dataTable =\n",
              "            await google.colab.kernel.invokeFunction('convertToInteractive',\n",
              "                                                     [key], {});\n",
              "          if (!dataTable) return;\n",
              "\n",
              "          const docLinkHtml = 'Like what you see? Visit the ' +\n",
              "            '<a target=\"_blank\" href=https://colab.research.google.com/notebooks/data_table.ipynb>data table notebook</a>'\n",
              "            + ' to learn more about interactive tables.';\n",
              "          element.innerHTML = '';\n",
              "          dataTable['output_type'] = 'display_data';\n",
              "          await google.colab.output.renderOutput(dataTable, element);\n",
              "          const docLink = document.createElement('div');\n",
              "          docLink.innerHTML = docLinkHtml;\n",
              "          element.appendChild(docLink);\n",
              "        }\n",
              "      </script>\n",
              "    </div>\n",
              "  </div>\n",
              "  "
            ],
            "text/plain": [
              "                                                  review sentiment\n",
              "0      One of the other reviewers has mentioned that ...  positive\n",
              "1      A wonderful little production. <br /><br />The...  positive\n",
              "2      I thought this was a wonderful way to spend ti...  positive\n",
              "3      Basically there's a family where a little boy ...  negative\n",
              "4      Petter Mattei's \"Love in the Time of Money\" is...  positive\n",
              "...                                                  ...       ...\n",
              "49995  I thought this movie did a down right good job...  positive\n",
              "49996  Bad plot, bad dialogue, bad acting, idiotic di...  negative\n",
              "49997  I am a Catholic taught in parochial elementary...  negative\n",
              "49998  I'm going to have to disagree with the previou...  negative\n",
              "49999  No one expects the Star Trek movies to be high...  negative\n",
              "\n",
              "[50000 rows x 2 columns]"
            ]
          },
          "execution_count": 40,
          "metadata": {},
          "output_type": "execute_result"
        }
      ],
      "source": [
        "#save IMDB dataset as a dataframe\n",
        "df = pd.read_csv(io.BytesIO(uploaded['IMDB.csv']))\n",
        "df"
      ]
    },
    {
      "cell_type": "code",
      "execution_count": null,
      "metadata": {
        "colab": {
          "base_uri": "https://localhost:8080/"
        },
        "id": "mG7821D9iEjh",
        "outputId": "568cad40-680f-4334-e273-963e180540d5"
      },
      "outputs": [
        {
          "name": "stdout",
          "output_type": "stream",
          "text": [
            "the size of the vocabulary is: 30767\n"
          ]
        }
      ],
      "source": [
        "#perform preprocessing (e.g. tokenization, build up vocabulary, etc.) on the text\n",
        "\n",
        "#preprocessing\n",
        "for idx, review in enumerate(df['review']):\n",
        "  #convert to lowercase\n",
        "  review = review.lower()\n",
        "\n",
        "  #remove punctuation\n",
        "  review = ''.join([word for word in review if word not in punctuation])\n",
        "\n",
        "  #replace review with clean text\n",
        "  df['review'][idx] = review\n",
        "\n",
        "\n",
        "#building vocabulary\n",
        "#create a list with words in all the reviews combined\n",
        "reviews_combined = ' '.join(df['review'])\n",
        "words_list = reviews_combined.split()\n",
        "\n",
        "# count all words from the list vocabulary\n",
        "all_words = Counter(words_list)\n",
        "\n",
        "#leave only the words with (count >= 10)\n",
        "vocabulary = {word:count for (word,count) in all_words.items() if count >= 10}\n",
        "\n",
        "#print out the size of your vocabulary\n",
        "vocab_len = len(vocabulary)\n",
        "print(f'the size of the vocabulary is: {vocab_len}')\n"
      ]
    },
    {
      "cell_type": "code",
      "execution_count": null,
      "metadata": {
        "colab": {
          "base_uri": "https://localhost:8080/"
        },
        "id": "_eSmxN9zMxcy",
        "outputId": "e648526c-fbe5-44d3-bf37-78acebe55acb"
      },
      "outputs": [
        {
          "name": "stdout",
          "output_type": "stream",
          "text": [
            "the size of the embeddings matrix is: (50000, 2469)\n",
            "[[    0     0     0 ...   122  4018   501]\n",
            " [    0     0     0 ...  1900    73   223]\n",
            " [    0     0     0 ...    64    15   333]\n",
            " ...\n",
            " [    0     0     0 ... 23649     2  6058]\n",
            " [    0     0     0 ...    68   711    42]\n",
            " [    0     0     0 ...   782    10    17]]\n"
          ]
        }
      ],
      "source": [
        "#Build an appropriate embedding matrix based on your vocabulary and print out the size of this matrix.\n",
        "#a dictionary to help map words to their embeddings\n",
        "\n",
        "#check if word belongs in vocabulary\n",
        "for review in df['review']:\n",
        "  review = ' '.join([word for word in review.split() if not word in vocabulary])\n",
        "\n",
        "#create embeddings\n",
        "tokenizer = Tokenizer(num_words=None, split=' ')\n",
        "\n",
        "#fit on texts\n",
        "tokenizer.fit_on_texts(df['review'].values)\n",
        "\n",
        "#convert texts to sequences of integers\n",
        "embeddings = tokenizer.texts_to_sequences(df['review'].values)\n",
        "\n",
        "#pad shorter reviews with 0's\n",
        "embeddings = pad_sequences(embeddings)\n",
        "\n",
        "#print out the size of the embeddings matrix\n",
        "print(f'the size of the embeddings matrix is: {embeddings.shape}')\n",
        "print(embeddings)\n"
      ]
    },
    {
      "cell_type": "code",
      "execution_count": null,
      "metadata": {
        "colab": {
          "base_uri": "https://localhost:8080/"
        },
        "id": "57j4Is4knUgB",
        "outputId": "67722fb3-4a3d-495b-ce86-236c5731aa90"
      },
      "outputs": [
        {
          "data": {
            "text/plain": [
              "[tensor([[   0.,    0.,    0.,  ...,  209.,  342., 3894.]]),\n",
              " tensor([[1., 0.]])]"
            ]
          },
          "execution_count": 43,
          "metadata": {},
          "output_type": "execute_result"
        }
      ],
      "source": [
        "#build up Pytorch dataloaders for model training and print out one batch of training data.\n",
        "\n",
        "#change sentiment from str to int\n",
        "#sentiment = [1 if (sentiment == 'positive') else 0 for sentiment in df['sentiment']]\n",
        "sentiment = pd.get_dummies(df['sentiment']).values\n",
        "\n",
        "#divide dataset into training and testing data\n",
        "X_train, X_test, Y_train, Y_test = train_test_split(embeddings,sentiment, test_size = 0.2, random_state = 42)\n",
        "\n",
        "#teypecast to Tensor\n",
        "X_train_torch = torch.Tensor(X_train)\n",
        "Y_train_torch = torch.Tensor(Y_train)\n",
        "X_test_torch = torch.Tensor(X_test)\n",
        "Y_test_torch = torch.Tensor(Y_test)\n",
        "\n",
        "#build TensorDataset\n",
        "train_dataset = TensorDataset(X_train_torch, Y_train_torch)\n",
        "test_dataset = TensorDataset(X_test_torch, Y_test_torch)\n",
        "\n",
        "#DataLoader\n",
        "train_dataloader = DataLoader(dataset = train_dataset, batch_size=1, shuffle = False)\n",
        "\n",
        "#print out one batch of training data\n",
        "next(iter(train_dataloader))"
      ]
    },
    {
      "cell_type": "code",
      "execution_count": null,
      "metadata": {
        "colab": {
          "base_uri": "https://localhost:8080/"
        },
        "id": "pRhovEdRnD3-",
        "outputId": "5fda2fd5-47d9-4fc3-a051-36b5094b0a8a"
      },
      "outputs": [
        {
          "name": "stderr",
          "output_type": "stream",
          "text": [
            "WARNING:tensorflow:Layer lstm will not use cuDNN kernels since it doesn't meet the criteria. It will use a generic GPU kernel as fallback when running on GPU.\n"
          ]
        },
        {
          "name": "stdout",
          "output_type": "stream",
          "text": [
            "Epoch 1/5\n",
            "313/313 [==============================] - 1815s 6s/step - loss: 0.4458 - accuracy: 0.7878 - val_loss: 0.3439 - val_accuracy: 0.8518\n",
            "Epoch 2/5\n",
            "313/313 [==============================] - 1785s 6s/step - loss: 0.3147 - accuracy: 0.8709 - val_loss: 0.3154 - val_accuracy: 0.8683\n",
            "Epoch 3/5\n",
            "313/313 [==============================] - 1775s 6s/step - loss: 0.2867 - accuracy: 0.8852 - val_loss: 0.2930 - val_accuracy: 0.8822\n",
            "Epoch 4/5\n",
            "313/313 [==============================] - 1785s 6s/step - loss: 0.2769 - accuracy: 0.8883 - val_loss: 0.2913 - val_accuracy: 0.8768\n",
            "Epoch 5/5\n",
            "313/313 [==============================] - 1783s 6s/step - loss: 0.2661 - accuracy: 0.8927 - val_loss: 0.2953 - val_accuracy: 0.8842\n"
          ]
        },
        {
          "data": {
            "text/plain": [
              "<keras.callbacks.History at 0x7fdce08bad90>"
            ]
          },
          "execution_count": 10,
          "metadata": {},
          "output_type": "execute_result"
        }
      ],
      "source": [
        "#Build a bidirectional LSTM model, train and test.\n",
        "\n",
        "#apply Bidirectional LSTM\n",
        "model = Sequential()\n",
        "model.add(Embedding(2000, 128,input_length = embeddings.shape[1]))\n",
        "model.add(SpatialDropout1D(0.4))\n",
        "model.add(Bidirectional(LSTM(10, dropout=0.2, recurrent_dropout=0.2)))\n",
        "model.add(Dense(2,activation='softmax'))\n",
        "model.compile(loss = 'categorical_crossentropy', optimizer='adam',metrics = ['accuracy'])\n",
        "\n",
        "#Train the model for 5 epoches with embedding matrix you obtained earlier.\n",
        "#print training loss, training accuracy, testing loss, and testing accuracy for each epoch\n",
        "model.fit(X_train, Y_train, epochs=5, batch_size=128, verbose=1, validation_data=(X_test,Y_test))"
      ]
    },
    {
      "cell_type": "markdown",
      "metadata": {
        "id": "W9Zsk8-DKYjR"
      },
      "source": [
        "\n",
        "###Implement the idea in paper ***A Neural Probabilistic Language Model*** (https://www.jmlr.org/papers/volume3/bengio03a/bengio03a.pdf) to train a trigram model. We will use the brown corpus in nltk package as the dataset. Train the model for 5 epoches and print out the training loss, training accuracy, testing loss, and testing accuracy. You can use these codes to download the corpus:\n",
        "\n",
        "```\n",
        "import nltk\n",
        "nltk.download(\"brown\")\n",
        "from nltk.corpus import brown\n",
        "```"
      ]
    },
    {
      "cell_type": "code",
      "execution_count": null,
      "metadata": {
        "colab": {
          "base_uri": "https://localhost:8080/"
        },
        "id": "XvHoqAxvi5bZ",
        "outputId": "22afc102-aacc-4ced-80ee-2aeaa9e4f83a"
      },
      "outputs": [
        {
          "name": "stderr",
          "output_type": "stream",
          "text": [
            "[nltk_data] Downloading package brown to /root/nltk_data...\n",
            "[nltk_data]   Unzipping corpora/brown.zip.\n"
          ]
        }
      ],
      "source": [
        "#download Brown corpus\n",
        "import nltk\n",
        "nltk.download(\"brown\")\n",
        "from nltk.corpus import brown"
      ]
    },
    {
      "cell_type": "code",
      "execution_count": null,
      "metadata": {
        "colab": {
          "base_uri": "https://localhost:8080/"
        },
        "id": "AeAjyf5Ti9P1",
        "outputId": "e34752be-d144-45a5-ff01-bf25cb2aca93"
      },
      "outputs": [
        {
          "name": "stdout",
          "output_type": "stream",
          "text": [
            "(1161190, 2)\n",
            "(1161190,)\n"
          ]
        }
      ],
      "source": [
        "#preprocessing\n",
        "corpus = brown.sents()\n",
        "words = [word.lower() for sentence in corpus\n",
        "                      for word in sentence]\n",
        "corpus_size = len(words)\n",
        "\n",
        "#count frequency\n",
        "frequency = Counter(words)\n",
        "\n",
        "#sort by highest frequency\n",
        "vocabulary = {word:idx for idx, (word, _) in enumerate(frequency.most_common())}\n",
        "\n",
        "#input bigram\n",
        "X = [(vocabulary[words[i]], vocabulary[words[i + 1]]) for i in range(corpus_size - 2)]\n",
        "#output the predicted next word\n",
        "Y = [vocabulary[words[i + 2]] for i in range(corpus_size - 2)]\n",
        "\n",
        "#typecast to numpy array\n",
        "X= np.array(X)\n",
        "Y=np.array(Y)\n",
        "#print out size of X & Y\n",
        "print(X.shape)\n",
        "print(Y.shape)\n",
        "\n",
        "#split training and testing data\n",
        "X_train, X_test, Y_train, Y_test = train_test_split(X, Y, test_size=0.2, random_state=42)"
      ]
    },
    {
      "cell_type": "code",
      "execution_count": null,
      "metadata": {
        "colab": {
          "base_uri": "https://localhost:8080/"
        },
        "id": "QCI6F5mXzVrx",
        "outputId": "47b7cfcd-9f3c-4476-bc45-f9f30368bce0"
      },
      "outputs": [
        {
          "name": "stdout",
          "output_type": "stream",
          "text": [
            "Epoch 1/5\n",
            "7258/7258 [==============================] - 108s 15ms/step - loss: 6.6063 - accuracy: 0.1243 - val_loss: 6.2519 - val_accuracy: 0.1478\n",
            "Epoch 2/5\n",
            "7258/7258 [==============================] - 97s 13ms/step - loss: 6.0073 - accuracy: 0.1592 - val_loss: 6.1492 - val_accuracy: 0.1563\n",
            "Epoch 3/5\n",
            "7258/7258 [==============================] - 96s 13ms/step - loss: 5.8024 - accuracy: 0.1734 - val_loss: 6.1264 - val_accuracy: 0.1597\n",
            "Epoch 4/5\n",
            "7258/7258 [==============================] - 94s 13ms/step - loss: 5.6541 - accuracy: 0.1833 - val_loss: 6.1297 - val_accuracy: 0.1596\n",
            "Epoch 5/5\n",
            "7258/7258 [==============================] - 94s 13ms/step - loss: 5.5337 - accuracy: 0.1913 - val_loss: 6.1449 - val_accuracy: 0.1603\n"
          ]
        },
        {
          "data": {
            "text/plain": [
              "<keras.callbacks.History at 0x7f35539b70a0>"
            ]
          },
          "execution_count": 36,
          "metadata": {},
          "output_type": "execute_result"
        }
      ],
      "source": [
        "vocab_size = len(vocabulary)\n",
        "embed_dim = 30        # embedding vector dimension\n",
        "n = 2                # n as in n-gram\n",
        "hidden_dim = 50       # num of hidden units\n",
        "\n",
        "# input is a vector of integers\n",
        "inputs = Input(shape=(n,), name=\"input\")\n",
        "embedding = Embedding(input_dim=vocab_size,\n",
        "                      output_dim=embed_dim,\n",
        "                      mask_zero=True, # input value 0 is a mask\n",
        "                      input_length=n,\n",
        "                      name=\"embed\")(inputs)\n",
        "flatten = Flatten()(embedding)\n",
        "hidden = Dense(hidden_dim, activation=\"tanh\", name=\"hidden\")(flatten)\n",
        "outputs = Dense(vocab_size, activation=\"softmax\", name=\"prob\")(hidden)\n",
        "model = Model(inputs=inputs, outputs=outputs, name=\"NPLM\")\n",
        "\n",
        "#fit model\n",
        "model.compile(loss = 'sparse_categorical_crossentropy', optimizer='adam',metrics = ['accuracy'])\n",
        "model.fit(X_train, Y_train, epochs=5, batch_size=128, verbose=1, validation_data=(X_test,Y_test))"
      ]
    }
  ],
  "metadata": {
    "accelerator": "GPU",
    "colab": {
      "provenance": [],
      "gpuClass": "premium",
      "include_colab_link": true
    },
    "gpuClass": "premium",
    "kernelspec": {
      "display_name": "Python 3 (ipykernel)",
      "language": "python",
      "name": "python3"
    },
    "language_info": {
      "codemirror_mode": {
        "name": "ipython",
        "version": 3
      },
      "file_extension": ".py",
      "mimetype": "text/x-python",
      "name": "python",
      "nbconvert_exporter": "python",
      "pygments_lexer": "ipython3",
      "version": "3.9.12"
    }
  },
  "nbformat": 4,
  "nbformat_minor": 0
}